{
 "metadata": {
  "name": "",
  "signature": "sha256:41bd97a63dfec3862de8efb78013a61d2e7f9158901feb65cba51aca94406ae4"
 },
 "nbformat": 3,
 "nbformat_minor": 0,
 "worksheets": [
  {
   "cells": [
    {
     "cell_type": "code",
     "collapsed": true,
     "input": [
      "from __future__ import division\n",
      "import matplotlib.pyplot as plt\n",
      "from sqlalchemy import *\n",
      "import numpy as np\n",
      "from sklearn.linear_model import LogisticRegression as LR\n",
      "from sklearn.ensemble import RandomForestClassifier as RF\n",
      "from sklearn.ensemble import GradientBoostingClassifier as GBC\n",
      "from sklearn.svm import SVC\n",
      "from sqlalchemy.orm import sessionmaker\n",
      "from sqlalchemy import func\n",
      "from sklearn.metrics import confusion_matrix\n",
      "from sklearn.cross_validation import train_test_split\n",
      "from churndata import *\n",
      "from sklearn.preprocessing import StandardScaler\n",
      "from pandas import DataFrame,Series\n",
      "from pandas.core.groupby import GroupBy\n",
      "import pandas as pd\n",
      "from util import query_to_df\n",
      "from util import *\n",
      "import matplotlib.pyplot as plt\n"
     ],
     "language": "python",
     "metadata": {},
     "outputs": []
    },
    {
     "cell_type": "code",
     "collapsed": true,
     "input": [
      "\n",
      "db = create_engine('sqlite:///forjar.db')\n",
      "\n",
      "\n",
      "metadata = MetaData(db)\n",
      "\n",
      "Session = sessionmaker(bind=db)\n",
      "\n",
      "\n",
      "session = Session()\n",
      "\n",
      "\n",
      "#used for later; defines the numerical mappings for each category\n",
      "campaign_to_num = {\n",
      "\t'TW' : 1,\n",
      "\t'RE' : 2,\n",
      "    'FB' : 3,\n",
      "    'PI' : 4\n",
      "}\n",
      "\n",
      "event_to_num = {\n",
      "   'like' : 1,\n",
      "   'share' : 2,\n",
      "   'nothing' : 3,\n",
      "   'bought' : 4\n",
      "}\n",
      "\n",
      "\n",
      "\n",
      "meal_to_num = {\n",
      "   'japanese':  1,\n",
      "   'chinese' : 2,\n",
      "   'french' : 3,\n",
      "    'german' : 4,\n",
      "    'italian' : 5,\n",
      "    'mexican' : 6,\n",
      "    'vietnamese' : 7\n",
      "}\n",
      "\n",
      "\n",
      "\n",
      "campaign_to_cost = {\n",
      "    'TW' : .25,\n",
      "    'RE' : .35,\n",
      "    'FB' : .45,\n",
      "    'PI' : .55\n",
      "}\n",
      "\n"
     ],
     "language": "python",
     "metadata": {},
     "outputs": [],
     "prompt_number": 31
    },
    {
     "cell_type": "markdown",
     "metadata": {},
     "source": [
      "\n",
      "Overview\n",
      "========================\n",
      "\n",
      "The core objective of this exercise is to understand sql queries, pandas data frames, and general exploratory data analysis.\n",
      "\n",
      "Towards the end, we will learn how to take our basic tools for exploratory data analysis and transform the inputs in to something\n",
      "\n",
      "appropriate for a machine learning algorithm.\n",
      "\n",
      "\n",
      "For our baseline classes, we will be using the classes from churndata.py . This contains all of the necessary classes from which\n",
      "\n",
      "we will derive all of our analysis.\n",
      "\n",
      "The associated database forjar.db contains our actual data set. We will need to use sql alchemy to load the data in.\n"
     ]
    },
    {
     "cell_type": "markdown",
     "metadata": {},
     "source": [
      "\n",
      "Loading Data Via SQLAlchemy\n",
      "====================================\n",
      "\n",
      "First we will be loading the data from our sql lite database and doing a simple join.\n",
      "\n",
      "Our objective here will be to get a list of the users who have bought something.\n",
      "\n",
      "If we think in terms of our objectives of the site, it is to maximize revenue.\n",
      "\n",
      "In any given day, we need to understand which of our users actually tend to buy things on the site.\n",
      "\n",
      "If they aren't buying anything, we should do something about it given the data we know about them.\n",
      "\n",
      "\n",
      "Exercise:\n",
      "\n",
      "     1.  Goal: Load data from an sql database such that each you load a join of the users and events. We only want \n",
      "          the users who bought something.\n",
      "\n",
      "         Steps:\n",
      "              1. Load data via sqlalchemy from the sql lite database forjar.db\n",
      "              2. Create a query that contains a join on events and a filter on bought. Look in to sqlalchemy \n",
      "                 sessions.\n",
      "\n",
      "\n",
      "     2. Load the results of a call to query.all() in to a data frame.\n",
      "\n",
      "         Steps:\n",
      "              1. Create a dataframe with pandas\n",
      "              2. Set the columns to the query keys\n",
      "\n",
      "\n",
      "\n",
      "The goal with this particular exercise is to understand which users are buying things so we can understand what attributes are successful.\n",
      "\n",
      "Resources:\n",
      "--------------\n",
      "\n",
      "[SQLLite/SQLAlchemy](http://docs.sqlalchemy.org/en/rel_0_9/dialects/sqlite.html)\n",
      "\n",
      "[Basic Querying](http://docs.sqlalchemy.org/en/rel_0_9/orm/query.html)\n",
      "\n",
      "[Pandas Data Structures](http://pandas.pydata.org/pandas-docs/stable/dsintro.html)\n",
      "\n",
      "\n",
      "\n",
      "\n",
      "\n",
      "\n",
      "[Solution](https://gist.github.com/agibsonccc/c5f34f6a5d24e041d535)\n",
      "---------------------------------------------------------------------------\n",
      "\n",
      "\n",
      "\n",
      "\n",
      "\n"
     ]
    },
    {
     "cell_type": "markdown",
     "metadata": {},
     "source": [
      "\n",
      " Load data via sqlalchemy from the sql lite database forjar.db\n",
      " ===================================================================================\n",
      "\n",
      "\n"
     ]
    },
    {
     "cell_type": "code",
     "collapsed": false,
     "input": [],
     "language": "python",
     "metadata": {},
     "outputs": []
    },
    {
     "cell_type": "markdown",
     "metadata": {},
     "source": [
      "\n",
      "\n",
      " Create a query that contains a join on events and a filter on bought. Look in to sqlalchemy sessions.\n",
      " ------------------------------------------------------------------------------------------------------------\n"
     ]
    },
    {
     "cell_type": "code",
     "collapsed": false,
     "input": [],
     "language": "python",
     "metadata": {},
     "outputs": []
    },
    {
     "cell_type": "markdown",
     "metadata": {},
     "source": [
      "\n",
      ". Load the results of a call to query.all() in to a data frame.\n",
      "=============================================================================\n"
     ]
    },
    {
     "cell_type": "code",
     "collapsed": false,
     "input": [],
     "language": "python",
     "metadata": {},
     "outputs": []
    },
    {
     "cell_type": "markdown",
     "metadata": {},
     "source": [
      "Set the columns to the query keys\n",
      "----------------------------------------------------------"
     ]
    },
    {
     "cell_type": "code",
     "collapsed": false,
     "input": [],
     "language": "python",
     "metadata": {},
     "outputs": []
    },
    {
     "cell_type": "markdown",
     "metadata": {},
     "source": [
      "Ranking\n",
      "======================\n",
      "\n",
      "Now we will want to perform some sort of ranking, understanding attributes of who bought the most will allow us\n",
      "\n",
      "to understand who our most profitable users are. Users who buy the most do not necessarily have the highest life time value,\n",
      "\n",
      "but it is a great low hanging fruit for understanding where to begin understanding your users.\n",
      "\n",
      "\n",
      "Exercise:\n",
      "         Create a ranked grouping of the users who bought the most\n",
      "\n",
      "         Steps:\n",
      "                1. Using our previous query, we should be able to also rank the users who bought the most.\n",
      "                2.  Again put the data in to a dataframe. RUn your aggregations and group bys via the data frame.\n",
      "\n",
      "Resources\n",
      "------------\n",
      "[Queries](http://docs.sqlalchemy.org/en/rel_0_9/orm/query.html)\n",
      "\n",
      "\n",
      "\n",
      "[Solution](https://gist.github.com/agibsonccc/7798e0908ab975a5f376)\n",
      "-----------------------------------------------------------------------------\n",
      "\n"
     ]
    },
    {
     "cell_type": "markdown",
     "metadata": {},
     "source": [
      "Using our previous query, we should be able to also rank the users who bought the most.\n",
      "-------------------------------------------------------------------------------------------------\n"
     ]
    },
    {
     "cell_type": "code",
     "collapsed": false,
     "input": [],
     "language": "python",
     "metadata": {},
     "outputs": []
    },
    {
     "cell_type": "markdown",
     "metadata": {},
     "source": [
      "\n",
      "Again put the data in to a dataframe. RUn your aggregations and group bys via the data frame.\n",
      "-----------------------------------------------------------------------------------------------------------\n"
     ]
    },
    {
     "cell_type": "code",
     "collapsed": false,
     "input": [],
     "language": "python",
     "metadata": {},
     "outputs": []
    },
    {
     "cell_type": "markdown",
     "metadata": {},
     "source": [
      "Counts on campaign wise event actions\n",
      "========================================\n",
      "\n",
      "\n",
      "Now we will use Pandas to start doing some exploratory analysis.  Let's compute some fairly simple statistics on our data.\n",
      "\n",
      "Exercise:\n",
      "\n",
      "     Steps:\n",
      "           1. Load the data from sql alchemy in to a pandas data frame\n",
      "\n",
      "           2. Using pandas, calculate the mean number of times each user\n",
      "\n",
      "           3. Do a dual group by from each campaign type (facebook,twitter,pinterest,...) and each event type\n",
      "\n",
      "\n",
      "\n",
      "Resources:\n",
      "----------------------------\n",
      "\n",
      "[Pandas Blog post](http://wesmckinney.com/blog/?p=125)\n",
      "\n",
      "[Solution](https://gist.github.com/agibsonccc/f5538976ed3782cb0441)\n",
      "-----------------------------------------------------------------------\n",
      "\n",
      "\n",
      "\n",
      "\"\"\""
     ]
    },
    {
     "cell_type": "markdown",
     "metadata": {},
     "source": [
      "Load the data from sql alchemy in to a pandas data frame\n",
      "---------------------------------------------------------------\n",
      "  "
     ]
    },
    {
     "cell_type": "code",
     "collapsed": false,
     "input": [],
     "language": "python",
     "metadata": {},
     "outputs": []
    },
    {
     "cell_type": "markdown",
     "metadata": {},
     "source": [
      "Using pandas, calculate the mean number of times each user\n",
      "-----------------------------------------------------------------\n"
     ]
    },
    {
     "cell_type": "code",
     "collapsed": false,
     "input": [],
     "language": "python",
     "metadata": {},
     "outputs": []
    },
    {
     "cell_type": "markdown",
     "metadata": {},
     "source": [
      "Do a dual group by from each campaign type (facebook,twitter,pinterest,...) and each event type\n",
      "--------------------------------------------------------------------------------------------------------"
     ]
    },
    {
     "cell_type": "code",
     "collapsed": false,
     "input": [],
     "language": "python",
     "metadata": {},
     "outputs": []
    },
    {
     "cell_type": "markdown",
     "metadata": {},
     "source": [
      "Visualizing Data\n",
      "============================\n",
      "\n",
      "Pandas has very powerful plotting built in to it alongside matplotlib. Let's generate scatterplots for all of the various user campaign to event types.\n",
      "\n",
      "Pandas has a lot of built in tools for data vis. Underneath it uses matplot lib. One key thing of note here is that pandas will not actually render your plots for you.\n",
      "\n",
      "To render plots after a call to something like dataframe.hist(), do the following:\n",
      "\n",
      "     import matplotlib.pyplot as plt\n",
      "     plt.show()\n",
      "\n",
      "This will allow us to see correlations in events all at once.\n",
      "\n",
      "Steps:\n",
      "       1. Load the data and do a join on: (Users.Campaign_ID,Event.Type,Users.id,Event.User_Id\n",
      "       2. If you have more than these columns in your dataframe subset them to this list of columns\n",
      "       3. Run an ordinal transform on each column. This is done via a 1 of k encoding mentioned earlier. \n",
      "       (Look in to the dict.get function alongside df[columnname].apply()\n",
      "       4. Now iterate over every possible combination of columns and plot a scatter plot of each.\n",
      "       Render these on the screen all at once.\n",
      "          Look in to plt.subplot for this. The end goal here is to transform the string values in \n",
      "          each column in the data frame to a numerical representation.\n",
      "\n",
      "\n"
     ]
    },
    {
     "cell_type": "markdown",
     "metadata": {},
     "source": [
      "Load the data and do a join on: Users.Campaign_ID,Event.Type,Users.id,Event.User_Id\n",
      "--------------------------------------------------------------------------------------------\n"
     ]
    },
    {
     "cell_type": "code",
     "collapsed": false,
     "input": [],
     "language": "python",
     "metadata": {},
     "outputs": []
    },
    {
     "cell_type": "markdown",
     "metadata": {},
     "source": [
      "If you have more than these columns in your dataframe subset them to this list of columns\n",
      "------------------------------------------------------------------------------------------------"
     ]
    },
    {
     "cell_type": "code",
     "collapsed": false,
     "input": [],
     "language": "python",
     "metadata": {},
     "outputs": []
    },
    {
     "cell_type": "markdown",
     "metadata": {},
     "source": [
      "Run an ordinal transform on each column. This is done via a 1 of k encoding mentioned earlier.\n",
      "---------------------------------------------------------------------------------------------------\n",
      "\n",
      " Look in to the two below functions:\n",
      " -------------------------------------------------------------------------------------------\n",
      "           \n",
      "                      dict.get\n",
      "                      df[columnname].apply()\n"
     ]
    },
    {
     "cell_type": "code",
     "collapsed": false,
     "input": [],
     "language": "python",
     "metadata": {},
     "outputs": []
    },
    {
     "cell_type": "markdown",
     "metadata": {},
     "source": [
      "Now iterate over every possible combination of columns and plot a scatter plot of each.\n",
      "---------------------------------------------------------------------------------------------------\n",
      "Render these on the screen all at once.\n",
      "-------------------------------------------------------------------------------------------------\n",
      "\n",
      "Look in to \n",
      "--------------\n",
      "\n",
      "           plt.subplot \n",
      "\n",
      "for this. The end goal here is to transform the string values in \n",
      "------------------------------------------------------------------------------------------\n",
      "each column in the data frame to a numerical representation.\n",
      "---------------------------------------------------------------------------------------------\n"
     ]
    },
    {
     "cell_type": "code",
     "collapsed": false,
     "input": [],
     "language": "python",
     "metadata": {},
     "outputs": []
    },
    {
     "cell_type": "markdown",
     "metadata": {},
     "source": [
      "Machine Learning Data input prep\n",
      "===========================================\n",
      "\n",
      "For Machine Learning Algorithms, they can only accept numbers. Our specific task here will be to predict a label.\n",
      "\n",
      "\n",
      "Exercise:\n",
      "\n",
      "Let's build out a data frame such that we have an outcome label. Set the outcome label to be event type.\n",
      "\n",
      "From here, binarize the event type outcome to be == bought or not.\n",
      "\n",
      "[Solution](https://gist.github.com/agibsonccc/9c54fbdc8d6f9b3f53fb)\n",
      "---------------------------------------------------------------------------\n",
      "\n",
      "\n"
     ]
    },
    {
     "cell_type": "markdown",
     "metadata": {},
     "source": [
      "Thinking about this we need to break up the dataset, this is simply isolating the target column and putting it in\n",
      "-------------------------------------------------------------------------------------------------------------------\n",
      "to its own data frame and dropping the column from the intended input set.\n",
      "-------------------------------------------------------------------------------------------------------------------"
     ]
    },
    {
     "cell_type": "markdown",
     "metadata": {},
     "source": [
      "Data Normalization\n",
      "=====================================================\n",
      "\n",
      "Machine Learning algorithms typically work better if you scale the data (squish the data in to 0,1 range)\n",
      "\n",
      "Exercise:\n",
      "\n",
      "\n",
      "Query for Users.Campaign_ID,Meal.Type,Event.Type and load it in to a dataframe\n",
      "\n",
      "Transform the data in to numerical (ordinal etc, think about what we did before)\n",
      "\n",
      "Split out the feature set columns from the outcome label and normalize the given features.\n",
      "\n",
      "Resources:\n",
      "----------------------\n",
      "\n",
      "[Scikit learn preprocessing](http://scikit-learn.org/stable/modules/preprocessing.html)\n",
      "\n",
      "[Solution](https://gist.github.com/agibsonccc/ec5062e81a4817cf35d4)\n",
      "---------------------------------------------------------------------------\n",
      "\n"
     ]
    },
    {
     "cell_type": "markdown",
     "metadata": {},
     "source": [
      "\n",
      "\n",
      "\n",
      "   Split out the feature set columns from the outcome label and normalize the giv\n"
     ]
    },
    {
     "cell_type": "markdown",
     "metadata": {},
     "source": [
      "  Query for Users.Campaign_ID,Meal.Type,Event.Type and load it in to a dataframe\n",
      "  -------------------------------------------------------------------------------------\n"
     ]
    },
    {
     "cell_type": "code",
     "collapsed": false,
     "input": [],
     "language": "python",
     "metadata": {},
     "outputs": []
    },
    {
     "cell_type": "markdown",
     "metadata": {},
     "source": [
      "Transform the data in to numerical (ordinal etc, think about what we did before)\n",
      "--------------------------------------------------------------------------------------------- "
     ]
    },
    {
     "cell_type": "code",
     "collapsed": false,
     "input": [],
     "language": "python",
     "metadata": {},
     "outputs": []
    }
   ],
   "metadata": {}
  }
 ]
}