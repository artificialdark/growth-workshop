{
 "metadata": {
  "name": "",
  "signature": "sha256:f45583337bc15d702a8f2d9ae376210f689475d03ec7491502d745ef8a3d0b8a"
 },
 "nbformat": 3,
 "nbformat_minor": 0,
 "worksheets": [
  {
   "cells": [
    {
     "cell_type": "markdown",
     "metadata": {},
     "source": [
      "##Customer Churn##"
     ]
    },
    {
     "cell_type": "markdown",
     "metadata": {},
     "source": [
      "\n",
      "\"Churn Rate\" is a business term describing the rate at which customers leave or cease paying for a product or service. It's a critical figure in many businesses, as it's often the case that acquiring new customers is a lot more costly than retaining existing ones (in some cases, 5 to 20 times more expensive).\n",
      "\n",
      "Understanding what keeps customers engaged, therefore, is incredibly valuable, as it is a logical foundation from which to develop retention strategies and roll out operational practices aimed to keep customers from walking out the door. Consequently, there's growing interest among companies to develop better churn-detection techniques, leading many to look to data mining and machine learning for new and creative approaches.\n",
      "\n",
      "Predicting churn is particularly important for businesses w/ subscription models such as cell phone, cable, or merchant credit card processing plans. But modeling churn has wide reaching applications in many domains. For example, casinos have used predictive models to predict ideal room conditions for keeping patrons at the blackjack table and when to reward unlucky gamblers with front row seats to Celine Dion. Similarly, airlines may offer first class upgrades to complaining customers. The list goes on."
     ]
    },
    {
     "cell_type": "markdown",
     "metadata": {},
     "source": [
      "Wait, don't go!\n",
      "\n",
      "So what are some of ops strategies that companies employ to prevent churn? Well, reducing churn, it turns out, often requires non-trivial resources. Specialized retention teams are common in many industries and exist expressly to call down lists of at-risk customers to plead for their continued business.\n",
      "\n",
      "![](http://blog.yhathq.com/static/img/netflix.png)\n",
      "\n",
      "Organizing and running such teams is tough. From an ops perspective, cross-geographic teams must be well organized and trained to respond to a huge spectrum of customer complaints. Customers must be accurately targeted based on churn-risk, and retention treatments must be well-conceived and correspond reasonably to match expected customer value to ensure the economics make sense. Spending $1,000 on someone who wasn't about to leave can get expensive pretty quickly.\n",
      "\n",
      "Within this frame of mind, efficiently dealing with turnover is an exercise of distinguishing who is likely to churn from who is not using the data at our disposal. The remainder of this post will explore a simple case study to show how Python and its scientific libraries can be used to predict churn and how you might deploy such a solution within operations to guide a retention team.\n",
      "\n",
      "##The Dataset##\n",
      "\n",
      "The data set we'll be using is a longstanding telecom customer data set.\n",
      "\n",
      "The data is straightforward. Each row represents a subscribing telephone customer. Each column contains customer attributes such as phone number, call minutes used during different times of day, charges incurred for services, lifetime account duration, and whether or not the customer is still a customer."
     ]
    },
    {
     "cell_type": "code",
     "collapsed": false,
     "input": [
      "from __future__ import division\n",
      "import pandas as pd\n",
      "import numpy as np\n",
      "import matplotlib.pyplot as plt\n",
      "import json\n",
      "\n",
      "from sklearn.cross_validation import KFold\n",
      "from sklearn.preprocessing import StandardScaler\n",
      "from sklearn.cross_validation import train_test_split\n",
      "from sklearn.svm import SVC\n",
      "from sklearn.ensemble import RandomForestClassifier as RF\n",
      "%matplotlib inline \n"
     ],
     "language": "python",
     "metadata": {},
     "outputs": []
    },
    {
     "cell_type": "code",
     "collapsed": false,
     "input": [
      "churn_df = pd.read_csv('data/churn.csv')\n",
      "col_names = churn_df.columns.tolist()\n",
      "\n",
      "print \"Column names:\"\n",
      "print col_names\n",
      "\n",
      "to_show = col_names[:6] + col_names[-6:]\n",
      "\n",
      "print \"\\nSample data:\"\n",
      "churn_df[to_show].head(6)\n",
      "      "
     ],
     "language": "python",
     "metadata": {},
     "outputs": []
    },
    {
     "cell_type": "markdown",
     "metadata": {},
     "source": [
      "We'll be keeping the statistical model pretty simple for this example so the feature space is almost unchanged from what you see above. The following code simply drops irrelevant columns and converts strings to boolean values (since models don't handle \"yes\" and \"no\" very well). The rest of the numeric columns are left untouched."
     ]
    },
    {
     "cell_type": "code",
     "collapsed": false,
     "input": [
      "# Isolate target data\n",
      "churn_result = churn_df['Churn?']\n",
      "y = np.where(churn_result == 'True.',1,0)\n"
     ],
     "language": "python",
     "metadata": {},
     "outputs": []
    },
    {
     "cell_type": "code",
     "collapsed": false,
     "input": [
      "# We don't need these columns\n",
      "to_drop = ['State','Area Code','Phone','Churn?']\n",
      "churn_feat_space = churn_df.drop(to_drop,axis=1)"
     ],
     "language": "python",
     "metadata": {},
     "outputs": []
    },
    {
     "cell_type": "code",
     "collapsed": false,
     "input": [
      "# 'yes'/'no' has to be converted to boolean values\n",
      "# NumPy converts these from boolean to 1. and 0. later\n",
      "yes_no_cols = [\"Int'l Plan\",\"VMail Plan\"]\n",
      "churn_feat_space[yes_no_cols] = churn_feat_space[yes_no_cols] == 'yes'"
     ],
     "language": "python",
     "metadata": {},
     "outputs": []
    },
    {
     "cell_type": "code",
     "collapsed": false,
     "input": [
      "# Pull out features for future use\n",
      "features = churn_feat_space.columns\n",
      "print features"
     ],
     "language": "python",
     "metadata": {},
     "outputs": []
    },
    {
     "cell_type": "code",
     "collapsed": false,
     "input": [
      "X = churn_feat_space.as_matrix().astype(np.float)\n",
      "\n",
      "# This is important\n",
      "scaler = StandardScaler()\n",
      "X = scaler.fit_transform(X)\n",
      "print \"Feature space holds %d observations and %d features\" % X.shape\n",
      "print \"Unique target labels:\", np.unique(y)\n",
      "      "
     ],
     "language": "python",
     "metadata": {},
     "outputs": []
    },
    {
     "cell_type": "markdown",
     "metadata": {},
     "source": [
      "One slight side note. Many predictors care about the relative size of different features even though those scales might be arbitrary. For instance: the number of points a basketball team scores per game will naturally be a couple orders of magnitude larger than their win percentage. But this doesn't mean that the latter is 100 times less signifigant. `StandardScaler` fixes this by normalizing each feature to a range of around 1.0 to -1.0 thereby preventing models from misbehaving. Well, at least for that reason.\n",
      "\n",
      "Great, I now have a feature space `X` and a set of target values `y`. On to the predictions!\n",
      "\n",
      "##How good is your model?##\n",
      "\n",
      "Express, test, cycle. A machine learning pipeline should be anything but static. There are always new features to design, new data to use, new classifiers to consider each with unique parameters to tune. And for every change it's critical to be able to ask, \"Is the new version better than the last?\" So how do I do that?\n",
      "\n",
      "As a good start, cross validation will be used throught this example. Cross validation attempts to avoid overfitting (training on and predicting the same datapoint) while still producing a prediction for each observation dataset. This is accomplished by systematically hiding different subsets of the data while training a set of models. After training, each model predicts on the subset that had been hidden to it, emulating multiple train-test splits. When done correctly, every observation will have a 'fair' corresponding prediction.\n",
      "\n",
      "Here's what that looks like using `scikit-learn` libraries."
     ]
    },
    {
     "cell_type": "code",
     "collapsed": false,
     "input": [
      "from sklearn.cross_validation import KFold\n",
      "\n",
      "def run_cv(X,y,clf_class,**kwargs):\n",
      "    # Construct a kfolds object\n",
      "    kf = KFold(len(y),n_folds=3,shuffle=True)\n",
      "    y_pred = y.copy()\n",
      "    \n",
      "    # Iterate through folds\n",
      "    for train_index, test_index in kf:\n",
      "        X_train, X_test = X[train_index], X[test_index]\n",
      "        y_train = y[train_index]\n",
      "        # Initialize a classifier with key word arguments\n",
      "        clf = clf_class(**kwargs)\n",
      "        clf.fit(X_train,y_train)\n",
      "        y_pred[test_index] = clf.predict(X_test)\n",
      "    return y_pred"
     ],
     "language": "python",
     "metadata": {},
     "outputs": []
    },
    {
     "cell_type": "markdown",
     "metadata": {},
     "source": [
      "Let's compare three fairly unique algorithms support vector machines, random forest, and k-nearest-neighbors. Nothing fancy here, just passing each to cross validation and determining how often the classifier predicted the correct class."
     ]
    },
    {
     "cell_type": "code",
     "collapsed": false,
     "input": [
      "from sklearn.svm import SVC\n",
      "from sklearn.ensemble import RandomForestClassifier as RF\n",
      "from sklearn.neighbors import KNeighborsClassifier as KNN\n",
      "from sklearn.linear_model import LogisticRegression as LR\n",
      "from sklearn.ensemble import GradientBoostingClassifier as GBC\n",
      "from sklearn.metrics import average_precision_score\n",
      "\n",
      "def accuracy(y_true,y_pred):\n",
      "    # NumPy interpretes True and False as 1. and 0.\n",
      "    return np.mean(y_true == y_pred)\n",
      "\n",
      "print \"Logistic Regression:\"\n",
      "print \"%.3f\" % accuracy(y, run_cv(X,y,LR))\n",
      "print \"Gradient Boosting Classifier\"\n",
      "print \"%.3f\" % accuracy(y, run_cv(X,y,GBC))\n",
      "print \"Support vector machines:\"\n",
      "print \"%.3f\" % accuracy(y, run_cv(X,y,SVC))\n",
      "print \"Random forest:\"\n",
      "print \"%.3f\" % accuracy(y, run_cv(X,y,RF))\n",
      "print \"K-nearest-neighbors:\"\n",
      "print \"%.3f\" % accuracy(y, run_cv(X,y,KNN))"
     ],
     "language": "python",
     "metadata": {},
     "outputs": []
    },
    {
     "cell_type": "markdown",
     "metadata": {},
     "source": [
      "\n",
      "Random forest won, right?\n",
      "\n",
      "##Precision and recall##\n",
      "\n",
      "Measurements aren't golden formulas which always spit out high numbers for good models and low numbers for bad ones. Inherently they convey something sentiment about a model's performance, and it's the job of the human designer to determine each number's validity. The problem with accuracy is that outcomes aren't necessarily equal. If my classifier predicted a customer would churn and they didn't, that's not the best but it's forgivable. However, if my classifier predicted a customer would return, I didn't act, and then they churned... that's really bad.\n",
      "\n",
      "We'll be using another built in `scikit-learn` function to construction a confusion matrix. A confusion matrix is a way of visualizing predictions made by a classifier and is just a table showing the distribution of predictions for a specific class. The x-axis indicates the true class of each observation (if a customer churned or not) while the y-axis corresponds to the class predicted by the model (if my classifier said a customer would churned or not).\n",
      "\n",
      "## Confusion matrix and confusion tables: \n",
      "The columns represent the actual class and the rows represent the predicted class. Lets evaluate performance: \n",
      "\n",
      "|      | condition True | condition false|\n",
      "|------|----------------|---------------|\n",
      "|prediction true|True Positive|False positive|\n",
      "|Prediction False|False Negative|True Negative|\n",
      "\n",
      "Sensitivity, Recall or True Positive Rate quantify the models ability to predict our positive classes. \n",
      "\n",
      "$$TPR = \\frac{ TP}{TP + FN}$$ \n",
      "\n",
      "Specificity or True Negative Rate quantify the models ability to predict our Negative classes. \n",
      "\n",
      "$$TNR = \\frac{ TN}{FP + TN}$$ \n",
      "\n",
      "### Example:\n",
      "\n",
      "|      | Spam | Ham|\n",
      "|------|----------------|---------------|\n",
      "|prediction Spam|100|50|\n",
      "|Prediction Ham|75|900|\n",
      "\n",
      "$$TPR = \\frac{100}{100 + 75} = 57.14 \\%   Sensitive $$\n",
      "\n",
      "$$TNR = \\frac{ 900}{50 + 900} = 94.73 \\% Specific $$\n",
      "\n"
     ]
    },
    {
     "cell_type": "code",
     "collapsed": false,
     "input": [
      "from sklearn.metrics import confusion_matrix\n",
      "from sklearn.metrics import precision_score\n",
      "from sklearn.metrics import recall_score\n",
      "\n",
      "def draw_confusion_matrices(confusion_matricies,class_names):\n",
      "    class_names = class_names.tolist()\n",
      "    for cm in confusion_matrices:\n",
      "        classifier, cm = cm[0], cm[1]\n",
      "        print(cm)\n",
      "        \n",
      "        fig = plt.figure()\n",
      "        ax = fig.add_subplot(111)\n",
      "        cax = ax.matshow(cm)\n",
      "        plt.title('Confusion matrix for %s' % classifier)\n",
      "        fig.colorbar(cax)\n",
      "        ax.set_xticklabels([''] + class_names)\n",
      "        ax.set_yticklabels([''] + class_names)\n",
      "        plt.xlabel('Predicted')\n",
      "        plt.ylabel('True')\n",
      "        plt.show()\n",
      "    \n",
      "y = np.array(y)\n",
      "class_names = np.unique(y)\n",
      "\n",
      "confusion_matrices = [\n",
      "    ( \"Support Vector Machines\", confusion_matrix(y,run_cv(X,y,SVC)) ),\n",
      "    ( \"Random Forest\", confusion_matrix(y,run_cv(X,y,RF)) ),\n",
      "    ( \"K-Nearest-Neighbors\", confusion_matrix(y,run_cv(X,y,KNN)) ),\n",
      "    ( \"Gradient Boosting Classifier\", confusion_matrix(y,run_cv(X,y,GBC)) ),\n",
      "    ( \"Logisitic Regression\", confusion_matrix(y,run_cv(X,y,LR)) )\n",
      "]\n",
      "\n",
      "# Pyplot code not included to reduce clutter\n",
      "# from churn_display import draw_confusion_matrices\n",
      "%matplotlib inline\n",
      "\n",
      "draw_confusion_matrices(confusion_matrices,class_names)"
     ],
     "language": "python",
     "metadata": {},
     "outputs": []
    },
    {
     "cell_type": "markdown",
     "metadata": {},
     "source": [
      "An important question to ask might be, When an individual churns, how often does my classifier predict that correctly? This measurement is called \"recall\" and a quick look at these diagrams can demonstrate that random forest is clearly best for this criteria. Out of all the churn cases (outcome \"1\") random forest correctly retrieved 330 out of 482. This translates to a churn \"recall\" of about 68% (330/482\u22482/3), far better than support vector machines (\u224850%) or k-nearest-neighbors (\u224835%).\n",
      "\n",
      "Another question of importance is \"precision\" or, When a classifier predicts an individual will churn, how often does that individual actually churn? The differences in sematic are small from the previous question, but it makes quite a different. Random forest again out preforms the other two at about 93% precision (330 out of 356) with support vector machines a little behind at about 87% (235 out of 269). K-nearest-neighbors lags at about 80%.\n",
      "\n",
      "While, just like accuracy, precision and recall still rank random forest above SVC and KNN, this won't always be true. When different measurements do return a different pecking order, understanding the values and tradeoffs of each rating should effect how you proceed."
     ]
    },
    {
     "cell_type": "markdown",
     "metadata": {},
     "source": [
      "## ROC Plots & AUC\n",
      "\n",
      "Another important metric to consider is ROC plots. We'll cover the majority of these concepts in lecture, but if you're itching for more, one of the best resources out there is this [academic paper](https://cours.etsmtl.ca/sys828/REFS/A1/Fawcett_PRL2006.pdf). \n",
      "\n",
      "Simply put, the area under the curve (AUC) of a receiver operating characteristic (ROC) curve is a way to reduce ROC performance to a single value representing expected performance.\n",
      "To explain with a little more detail, a ROC curve plots the true positives (sensitivity) vs. false positives (1 \u2212 specificity), for a binary classifier system as its discrimination threshold is varied. Since a random method describes a horizontal curve through the unit interval, it has an AUC of .5. Minimally, classifiers should perform better than this, and the extent to which they score higher than one another (meaning the area under the ROC curve is larger), they have better expected performance. "
     ]
    },
    {
     "cell_type": "code",
     "collapsed": false,
     "input": [
      "def plot_roc(X, y, clf_class, **kwargs):\n",
      "    kf = KFold(len(y), n_folds=5, shuffle=True)\n",
      "    y_prob = np.zeros((len(y),2))\n",
      "    mean_tpr = 0.0\n",
      "    mean_fpr = np.linspace(0, 1, 100)\n",
      "    all_tpr = []\n",
      "    for i, (train_index, test_index) in enumerate(kf):\n",
      "        X_train, X_test = X[train_index], X[test_index]\n",
      "        y_train = y[train_index]\n",
      "        clf = clf_class(**kwargs)\n",
      "        clf.fit(X_train,y_train)\n",
      "        # Predict probabilities, not classes\n",
      "        y_prob[test_index] = clf.predict_proba(X_test)\n",
      "        fpr, tpr, thresholds = roc_curve(y[test_index], y_prob[test_index, 1])\n",
      "        mean_tpr += interp(mean_fpr, fpr, tpr)\n",
      "        mean_tpr[0] = 0.0\n",
      "        roc_auc = auc(fpr, tpr)\n",
      "        plt.plot(fpr, tpr, lw=1, label='ROC fold %d (area = %0.2f)' % (i, roc_auc))\n",
      "    mean_tpr /= len(kf)\n",
      "    mean_tpr[-1] = 1.0\n",
      "    mean_auc = auc(mean_fpr, mean_tpr)\n",
      "    plt.plot(mean_fpr, mean_tpr, 'k--',label='Mean ROC (area = %0.2f)' % mean_auc, lw=2)\n",
      "    \n",
      "    plt.plot([0, 1], [0, 1], '--', color=(0.6, 0.6, 0.6), label='Random')\n",
      "    plt.xlim([-0.05, 1.05])\n",
      "    plt.ylim([-0.05, 1.05])\n",
      "    plt.xlabel('False Positive Rate')\n",
      "    plt.ylabel('True Positive Rate')\n",
      "    plt.title('Receiver operating characteristic')\n",
      "    plt.legend(loc=\"lower right\")\n",
      "    plt.show()\n",
      "      \n",
      "\n",
      "print \"Support vector machines:\"\n",
      "plot_roc(X,y,SVC,probability=True)\n",
      "\n",
      "print \"Random forests:\"\n",
      "plot_roc(X,y,RF,n_estimators=18)\n",
      "\n",
      "print \"K-nearest-neighbors:\"\n",
      "plot_roc(X,y,KNN)\n",
      "\n",
      "print \"Gradient Boosting Classifier:\"\n",
      "plot_roc(X,y,GBC)"
     ],
     "language": "python",
     "metadata": {},
     "outputs": []
    },
    {
     "cell_type": "markdown",
     "metadata": {},
     "source": [
      "## Feature Importance\n",
      "\n",
      "Now that we understand the accuracy of each individual model for our particular dataset, let's dive a little deeper to get a better understanding of what features or behaviours are causing our customers to churn. In the next section, we will be using a `RandomForestClassifer` to build an ensemble of decision trees to predict whether a customer will churn or not churn. One of the first steps in building a decision tree to calculating the _information gain_ associated with splitting on a particular feature. (More on this later.)\n",
      "\n",
      "Let's look at the Top 10 features in our dataset that contribute to customer churn:"
     ]
    },
    {
     "cell_type": "code",
     "collapsed": false,
     "input": [
      "train_index,test_index = train_test_split(churn_df.index)\n",
      "\n",
      "forest = RF()\n",
      "forest_fit = forest.fit(X[train_index], y[train_index])\n",
      "forest_predictions = forest_fit.predict(X[test_index])\n",
      "\n",
      "importances = forest_fit.feature_importances_[:10]\n",
      "std = np.std([tree.feature_importances_ for tree in forest.estimators_],\n",
      "             axis=0)\n",
      "indices = np.argsort(importances)[::-1]\n",
      "\n",
      "# Print the feature ranking\n",
      "print(\"Feature ranking:\")\n",
      "\n",
      "for f in range(10):\n",
      "    print(\"%d. %s (%f)\" % (f + 1, features[f], importances[indices[f]]))\n",
      "\n",
      "# Plot the feature importances of the forest\n",
      "#import pylab as pl\n",
      "plt.figure()\n",
      "plt.title(\"Feature importances\")\n",
      "plt.bar(range(10), importances[indices], yerr=std[indices], color=\"r\", align=\"center\")\n",
      "plt.xticks(range(10), indices)\n",
      "plt.xlim([-1, 10])\n",
      "plt.show()"
     ],
     "language": "python",
     "metadata": {},
     "outputs": []
    },
    {
     "cell_type": "markdown",
     "metadata": {},
     "source": [
      "## Thinking in Probabilities\n",
      "\n",
      "Decision making often favors probability over simple classifications. There's plainly more information in statements like \"there's a 20% chance of rain tomorrow\" and \"about 55% of test takers pass the California bar exam\" than just saying \"it shouldn't rain tomorrow\" or \"you'll probably pass.\" Probability predictions for churn also allow us to gauge a customers expected value, and their expected loss. Who do you want to reach out to first, the client with a 80% churn risk who pays $20,000 annually, or the client who's worth $100,000 a year with a 40% risk? How much should you spend on each client?\n",
      "\n",
      "While I'm moving a bit away from my expertise, being able to ask that question requires producing predictions a little differently. However, `scikit-learn` makes moving to probabilities easy; my three models have `predict_proba()` built right into their class objects. This is the same cross validation code with only a few lines changed."
     ]
    },
    {
     "cell_type": "code",
     "collapsed": false,
     "input": [
      "def run_prob_cv(X, y, clf_class, roc=False, **kwargs):\n",
      "    kf = KFold(len(y), n_folds=5, shuffle=True)\n",
      "    y_prob = np.zeros((len(y),2))\n",
      "    for train_index, test_index in kf:\n",
      "        X_train, X_test = X[train_index], X[test_index]\n",
      "        y_train = y[train_index]\n",
      "        clf = clf_class(**kwargs)\n",
      "        clf.fit(X_train,y_train)\n",
      "        # Predict probabilities, not classes\n",
      "        y_prob[test_index] = clf.predict_proba(X_test)\n",
      "    return y_prob"
     ],
     "language": "python",
     "metadata": {},
     "outputs": []
    },
    {
     "cell_type": "markdown",
     "metadata": {},
     "source": [
      "## How good is good?\n",
      "\n",
      "Determining how good a predictor which gives probabilities rather than classes is a bit more difficult. If I predict there's a 20% likelihood of rain tomorrow I don't get to live out all the possible outcomes of the universe. It either rains or it doesn't.\n",
      "\n",
      "What helps is that the predictors aren't making one prediction, they're making 3000+. So for every time I predict an event to occur 20% of the time I can see how often those events actually happen. Here's we'll use `pandas` to help me compare the predictions made by random forest against the actual outcomes."
     ]
    },
    {
     "cell_type": "code",
     "collapsed": false,
     "input": [
      "import warnings\n",
      "warnings.filterwarnings('ignore')\n",
      "\n",
      "# Use 10 estimators so predictions are all multiples of 0.1\n",
      "pred_prob = run_prob_cv(X, y, RF, n_estimators=10)\n",
      "pred_churn = pred_prob[:,1]\n",
      "is_churn = y == 1\n",
      "\n",
      "# Number of times a predicted probability is assigned to an observation\n",
      "counts = pd.value_counts(pred_churn)\n",
      "counts[:10]"
     ],
     "language": "python",
     "metadata": {},
     "outputs": []
    },
    {
     "cell_type": "raw",
     "metadata": {},
     "source": []
    },
    {
     "cell_type": "code",
     "collapsed": false,
     "input": [
      "from collections import defaultdict\n",
      "true_prob = defaultdict(float)\n",
      "\n",
      "# calculate true probabilities\n",
      "for prob in counts.index:\n",
      "    true_prob[prob] = np.mean(is_churn[pred_churn == prob])\n",
      "true_prob = pd.Series(true_prob)\n",
      "\n",
      "# pandas-fu\n",
      "counts = pd.concat([counts,true_prob], axis=1).reset_index()\n",
      "counts.columns = ['pred_prob', 'count', 'true_prob']\n",
      "counts"
     ],
     "language": "python",
     "metadata": {},
     "outputs": []
    },
    {
     "cell_type": "markdown",
     "metadata": {},
     "source": [
      "We can see that random forests predicted that 75 individuals would have a 0.9 proability of churn and in actuality that group had a ~0.97 rate.\n",
      "\n",
      "## Calibration and Descrimination\n",
      "\n",
      "Using the `DataFrame` above we can draw a pretty simple graph to help visualize probability measurements. The x axis represents the churn probabilities which random forest assigned to a group of individuals. The y axis is the actual rate of churn within that group, and each point is scaled relative to the size of the group.\n",
      "\n",
      "![](http://blog.yhathq.com/static/img/ggplot.png)\n",
      "\n",
      "Calibration is a relatively simple measurement and can be summed up as so: Events predicted to happen 60% of the time should happen 60% of the time. For all individuals I predict to have a churn risk of between 30 and 40%, the true churn rate for that group should be about 35%. For the graph above think of it as, How close are my predictions to the red line?\n",
      "\n",
      "Discrimination measures _How far are my predictions away from the green line?_ Why is that important?\n",
      "\n",
      "Well, if I assign a churn probability of 15% to every individual I'll have near perfect calibration due to averages, but I'll be lacking any real insight. Discrimination gives a model a better score if it's able to isolate groups which are further from the base set.\n",
      "\n",
      "Scikit-learn doesn't come with these measurements, meaning I've had to implement them myself. For everyone's sake I've kept the math and source code out of this blog. Equations are replicated from [Yang, Yates, and Smith (1991)](https://www.google.com/search?q=Measures+of+Discrimination+Skill+in+Probabilistic+Judgment&oq=Measures+of+Discrimination+Skill+in+Probabilistic+Judgment) and the code Yhat wrote can be found on GitHub [here](https://github.com/EricChiang/churn/blob/master/churn_measurements.py)."
     ]
    },
    {
     "cell_type": "code",
     "collapsed": false,
     "input": [
      "from churn_measurements import calibration, discrimination\n",
      "from sklearn.metrics import roc_curve, auc\n",
      "from scipy import interp\n",
      "from __future__ import division \n",
      "from operator import idiv\n",
      "\n",
      "\n",
      "      \n",
      "def print_measurements(pred_prob):\n",
      "    churn_prob, is_churn = pred_prob[:,1], y == 1\n",
      "    print \"  %-20s %.4f\" % (\"Calibration Error\", calibration(churn_prob, is_churn))\n",
      "    print \"  %-20s %.4f\" % (\"Discrimination\", discrimination(churn_prob,is_churn))\n",
      "\n",
      "    print \"Note -- Lower calibration is better, higher discrimination is better\""
     ],
     "language": "python",
     "metadata": {},
     "outputs": []
    },
    {
     "cell_type": "code",
     "collapsed": false,
     "input": [
      "print \"Support vector machines:\"\n",
      "print_measurements(run_prob_cv(X,y,SVC,probability=True))\n",
      "\n",
      "print \"Random forests:\"\n",
      "print_measurements(run_prob_cv(X,y,RF,n_estimators=18))\n",
      "\n",
      "print \"K-nearest-neighbors:\"\n",
      "print_measurements(run_prob_cv(X,y,KNN))\n",
      "\n",
      "print \"Gradient Boosting Classifier:\"\n",
      "print_measurements(run_prob_cv(X,y,GBC))\n",
      "\n",
      "print \"Random Forest:\"\n",
      "print_measurements(run_prob_cv(X,y,RF))"
     ],
     "language": "python",
     "metadata": {},
     "outputs": []
    },
    {
     "cell_type": "markdown",
     "metadata": {},
     "source": [
      "Unlike the classification comparisons earlier, random forest isn't as clearly the front-runner here. While it's good at differentiating between high and low probability churn events, it has trouble assigning an accurate probability estimate to those events. For example the group which random forest predicts to have a 30% churn rate actually had a true churn rate of 14%. Clearly there's more work to be done, but I leave that to you as a challenge."
     ]
    },
    {
     "cell_type": "code",
     "collapsed": false,
     "input": [
      "from IPython.core.display import HTML\n",
      "\n",
      "\n",
      "def css_styling():\n",
      "    styles = open(\"styles/custom.css\", \"r\").read()\n",
      "    return HTML(styles)\n",
      "css_styling()"
     ],
     "language": "python",
     "metadata": {},
     "outputs": []
    }
   ],
   "metadata": {}
  }
 ]
}